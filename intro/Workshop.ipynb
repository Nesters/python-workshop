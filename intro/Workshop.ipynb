{
 "cells": [
  {
   "cell_type": "markdown",
   "metadata": {},
   "source": [
    "# Python Intro Workshop (23.02.2018)"
   ]
  },
  {
   "cell_type": "markdown",
   "metadata": {},
   "source": [
    "## Why Python?\n",
    "\n",
    "* Easy to learn\n",
    "* Very Agile design\n",
    "* Makes you write \"not bad\" code\n",
    "* Used all across the industry\n",
    "* You can make it run *anywhere*"
   ]
  },
  {
   "cell_type": "markdown",
   "metadata": {},
   "source": [
    "## Where is Python used?\n",
    "* **Web development (Frameworks like Django, Flask, etc.)** - Quora, YouTube, Instagram, Google all use Python quite a lot\n",
    "* **Machine Learning / AI (Tensorflow, Theano, OpenAI Gym)** - Probably the most impactful area for Python right now\n",
    "* **Data Science - (Pandas, SciPy, matplotlib)** - eich ecosystem and strong academic backing\n",
    "* **Web Scraping - (Requests, BeautifulSoup4, lxml, Selenium, Scrapy)**\n",
    "* **Other Use Cases** - DevOps, IoT / Embedded Systems, Blockchain, desktop applications, games, Skynet"
   ]
  },
  {
   "cell_type": "markdown",
   "metadata": {},
   "source": [
    "## Python as a Language\n",
    "\n",
    "### Syntax\n",
    "\n",
    "#### Blocks of code are made distinct with indentation - 4 spaces (or a tab):"
   ]
  },
  {
   "cell_type": "code",
   "execution_count": 4,
   "metadata": {},
   "outputs": [
    {
     "name": "stdout",
     "output_type": "stream",
     "text": [
      "HELL YEAHH!1!!1!\n"
     ]
    }
   ],
   "source": [
    "your_project = 'Python'\n",
    "\n",
    "if your_project == 'Magento':\n",
    "    print('Please no!')\n",
    "elif your_project == 'Python':\n",
    "    print('HELL YEAHH!1!!1!')"
   ]
  },
  {
   "cell_type": "markdown",
   "metadata": {},
   "source": [
    "#### Comments"
   ]
  },
  {
   "cell_type": "code",
   "execution_count": 14,
   "metadata": {},
   "outputs": [
    {
     "name": "stdout",
     "output_type": "stream",
     "text": [
      "Let your code comment itself, though!\n"
     ]
    }
   ],
   "source": [
    "# A single line of comments begin with a hash\n",
    "\n",
    "'''\n",
    "Block comments begin and end with three quotes (doesn't matter if double or single)\n",
    "'''\n",
    "\n",
    "\"\"\"\n",
    "This is also the syntax for method Docstrings\n",
    "\"\"\"\n",
    "\n",
    "print('Let your code comment itself, though!')"
   ]
  },
  {
   "cell_type": "markdown",
   "metadata": {},
   "source": [
    "#### Boolean conditions"
   ]
  },
  {
   "cell_type": "code",
   "execution_count": 17,
   "metadata": {},
   "outputs": [
    {
     "name": "stdout",
     "output_type": "stream",
     "text": [
      "Icecream\n"
     ]
    }
   ],
   "source": [
    "boolean_condition = True\n",
    "if boolean_condition:\n",
    "    # do something\n",
    "    pass\n",
    "\n",
    "# Boolean evaluation can also be used in inline statements\n",
    "food = '' or 'Icecream' # returns left side if contains a truthy value or right side otherwise\n",
    "print(food)"
   ]
  },
  {
   "cell_type": "code",
   "execution_count": 23,
   "metadata": {},
   "outputs": [
    {
     "name": "stdout",
     "output_type": "stream",
     "text": [
      "2\n"
     ]
    }
   ],
   "source": [
    "# Or like this\n",
    "quick_maths = 1+1 if 2+2 == 4 else -1\n",
    "\n",
    "print(quick_maths)"
   ]
  },
  {
   "cell_type": "markdown",
   "metadata": {},
   "source": [
    "#### Variables"
   ]
  },
  {
   "cell_type": "code",
   "execution_count": 24,
   "metadata": {
    "collapsed": true
   },
   "outputs": [],
   "source": [
    "# Creating a variable\n",
    "some_string = 'foo'\n",
    "an_integer = 15\n",
    "pi = 3.14\n",
    "boolean_value = True\n",
    "false_value = False\n",
    "no_value = None"
   ]
  },
  {
   "cell_type": "markdown",
   "metadata": {},
   "source": [
    "#### Python is a strongly, dynamically typed language"
   ]
  },
  {
   "cell_type": "code",
   "execution_count": 26,
   "metadata": {},
   "outputs": [
    {
     "ename": "TypeError",
     "evalue": "must be str, not int",
     "output_type": "error",
     "traceback": [
      "\u001b[0;31m-----------------------------------------------------------\u001b[0m",
      "\u001b[0;31mTypeError\u001b[0m                 Traceback (most recent call last)",
      "\u001b[0;32m<ipython-input-26-3e255b1daaec>\u001b[0m in \u001b[0;36m<module>\u001b[0;34m()\u001b[0m\n\u001b[1;32m      2\u001b[0m \u001b[0mvar2\u001b[0m \u001b[0;34m=\u001b[0m \u001b[0;36m5\u001b[0m\u001b[0;34m\u001b[0m\u001b[0m\n\u001b[1;32m      3\u001b[0m \u001b[0;34m\u001b[0m\u001b[0m\n\u001b[0;32m----> 4\u001b[0;31m \u001b[0mvar1\u001b[0m \u001b[0;34m+\u001b[0m \u001b[0mvar2\u001b[0m\u001b[0;34m\u001b[0m\u001b[0m\n\u001b[0m",
      "\u001b[0;31mTypeError\u001b[0m: must be str, not int"
     ]
    }
   ],
   "source": [
    "var1 = \"Five\"\n",
    "var2 = 5\n",
    "\n",
    "var1 + var2"
   ]
  },
  {
   "cell_type": "markdown",
   "metadata": {},
   "source": [
    "#### Everything is an Object in Python"
   ]
  },
  {
   "cell_type": "code",
   "execution_count": 27,
   "metadata": {},
   "outputs": [
    {
     "data": {
      "text/plain": [
       "3"
      ]
     },
     "execution_count": 27,
     "metadata": {},
     "output_type": "execute_result"
    }
   ],
   "source": [
    "1 + 2"
   ]
  },
  {
   "cell_type": "code",
   "execution_count": 28,
   "metadata": {},
   "outputs": [
    {
     "data": {
      "text/plain": [
       "3"
      ]
     },
     "execution_count": 28,
     "metadata": {},
     "output_type": "execute_result"
    }
   ],
   "source": [
    "(1).__add__(2)"
   ]
  },
  {
   "cell_type": "code",
   "execution_count": 33,
   "metadata": {},
   "outputs": [
    {
     "data": {
      "text/plain": [
       "False"
      ]
     },
     "execution_count": 33,
     "metadata": {},
     "output_type": "execute_result"
    }
   ],
   "source": [
    "(1).__gt__(2)"
   ]
  },
  {
   "cell_type": "code",
   "execution_count": null,
   "metadata": {
    "collapsed": true
   },
   "outputs": [],
   "source": []
  }
 ],
 "metadata": {
  "kernelspec": {
   "display_name": "Python 3",
   "language": "python",
   "name": "python3"
  },
  "language_info": {
   "codemirror_mode": {
    "name": "ipython",
    "version": 3
   },
   "file_extension": ".py",
   "mimetype": "text/x-python",
   "name": "python",
   "nbconvert_exporter": "python",
   "pygments_lexer": "ipython3",
   "version": "3.6.4"
  }
 },
 "nbformat": 4,
 "nbformat_minor": 2
}
