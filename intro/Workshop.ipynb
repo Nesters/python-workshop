{
 "cells": [
  {
   "cell_type": "markdown",
   "metadata": {},
   "source": [
    "# Python Intro Workshop (23.02.2018)"
   ]
  },
  {
   "cell_type": "markdown",
   "metadata": {},
   "source": [
    "## Why Python?\n",
    "\n",
    "* Easy to learn\n",
    "* Very Agile design\n",
    "* Makes you write \"not bad\" code\n",
    "* Used all across the industry\n",
    "* You can make it run *anywhere*"
   ]
  },
  {
   "cell_type": "markdown",
   "metadata": {},
   "source": [
    "## Where is Python used?\n",
    "* **Web development (Frameworks like Django, Flask, etc.)** - Quora, YouTube, Instagram, Google all use Python quite a lot\n",
    "* **Machine Learning / AI (Tensorflow, Theano, OpenAI Gym)** - Probably the most impactful area for Python right now\n",
    "* **Data Science - (Pandas, SciPy, matplotlib)** - eich ecosystem and strong academic backing\n",
    "* **Web Scraping - (Requests, BeautifulSoup4, lxml, Selenium, Scrapy)**\n",
    "* **Other Use Cases** - DevOps, IoT / Embedded Systems, Blockchain, desktop applications, games, Skynet"
   ]
  },
  {
   "cell_type": "markdown",
   "metadata": {},
   "source": [
    "## Python as a Language\n",
    "\n",
    "### Syntax\n",
    "\n",
    "#### Blocks of code are made distinct with indentation - 4 spaces (or a tab):"
   ]
  },
  {
   "cell_type": "code",
   "execution_count": 46,
   "metadata": {},
   "outputs": [
    {
     "name": "stdout",
     "output_type": "stream",
     "text": [
      "HELL YEAHH!1!!1!\n"
     ]
    }
   ],
   "source": [
    "your_project = 'Python'\n",
    "\n",
    "if your_project == 'Magento':\n",
    "    print('Please no!')\n",
    "elif your_project == 'Python':\n",
    "    print('HELL YEAHH!1!!1!')\n",
    "else:\n",
    "    print('Well, I guess blockchain will do...')"
   ]
  },
  {
   "cell_type": "markdown",
   "metadata": {},
   "source": [
    "#### Comments"
   ]
  },
  {
   "cell_type": "code",
   "execution_count": 14,
   "metadata": {},
   "outputs": [
    {
     "name": "stdout",
     "output_type": "stream",
     "text": [
      "Let your code comment itself, though!\n"
     ]
    }
   ],
   "source": [
    "# A single line of comments begin with a hash\n",
    "\n",
    "'''\n",
    "Block comments begin and end with three quotes (doesn't matter if double or single)\n",
    "'''\n",
    "\n",
    "\"\"\"\n",
    "This is also the syntax for method Docstrings\n",
    "\"\"\"\n",
    "\n",
    "print('Let your code comment itself, though!')"
   ]
  },
  {
   "cell_type": "markdown",
   "metadata": {},
   "source": [
    "#### Boolean conditions"
   ]
  },
  {
   "cell_type": "code",
   "execution_count": 45,
   "metadata": {},
   "outputs": [
    {
     "name": "stdout",
     "output_type": "stream",
     "text": [
      "Icecream\n"
     ]
    }
   ],
   "source": [
    "boolean_condition = True\n",
    "if boolean_condition:\n",
    "    # do something\n",
    "    pass\n",
    "\n",
    "# Boolean evaluation can also be used in inline statements\n",
    "food = '' or 'Icecream' # returns left side if contains a truthy value or right side otherwise\n",
    "print(food)"
   ]
  },
  {
   "cell_type": "code",
   "execution_count": 23,
   "metadata": {},
   "outputs": [
    {
     "name": "stdout",
     "output_type": "stream",
     "text": [
      "2\n"
     ]
    }
   ],
   "source": [
    "# Or like this\n",
    "quick_maths = 1+1 if 2+2 == 4 else -1\n",
    "\n",
    "print(quick_maths)"
   ]
  },
  {
   "cell_type": "markdown",
   "metadata": {},
   "source": [
    "#### Variables"
   ]
  },
  {
   "cell_type": "code",
   "execution_count": 24,
   "metadata": {
    "collapsed": true
   },
   "outputs": [],
   "source": [
    "# Creating a variable\n",
    "some_string = 'foo'\n",
    "an_integer = 15\n",
    "pi = 3.14\n",
    "boolean_value = True\n",
    "false_value = False\n",
    "no_value = None"
   ]
  },
  {
   "cell_type": "markdown",
   "metadata": {},
   "source": [
    "#### Python is a strongly, dynamically typed language"
   ]
  },
  {
   "cell_type": "code",
   "execution_count": 26,
   "metadata": {},
   "outputs": [
    {
     "ename": "TypeError",
     "evalue": "must be str, not int",
     "output_type": "error",
     "traceback": [
      "\u001b[0;31m-----------------------------------------------------------\u001b[0m",
      "\u001b[0;31mTypeError\u001b[0m                 Traceback (most recent call last)",
      "\u001b[0;32m<ipython-input-26-3e255b1daaec>\u001b[0m in \u001b[0;36m<module>\u001b[0;34m()\u001b[0m\n\u001b[1;32m      2\u001b[0m \u001b[0mvar2\u001b[0m \u001b[0;34m=\u001b[0m \u001b[0;36m5\u001b[0m\u001b[0;34m\u001b[0m\u001b[0m\n\u001b[1;32m      3\u001b[0m \u001b[0;34m\u001b[0m\u001b[0m\n\u001b[0;32m----> 4\u001b[0;31m \u001b[0mvar1\u001b[0m \u001b[0;34m+\u001b[0m \u001b[0mvar2\u001b[0m\u001b[0;34m\u001b[0m\u001b[0m\n\u001b[0m",
      "\u001b[0;31mTypeError\u001b[0m: must be str, not int"
     ]
    }
   ],
   "source": [
    "var1 = \"Five\"\n",
    "var2 = 5\n",
    "\n",
    "var1 + var2"
   ]
  },
  {
   "cell_type": "markdown",
   "metadata": {},
   "source": [
    "#### Everything is an Object in Python"
   ]
  },
  {
   "cell_type": "code",
   "execution_count": 27,
   "metadata": {},
   "outputs": [
    {
     "data": {
      "text/plain": [
       "3"
      ]
     },
     "execution_count": 27,
     "metadata": {},
     "output_type": "execute_result"
    }
   ],
   "source": [
    "1 + 2"
   ]
  },
  {
   "cell_type": "code",
   "execution_count": 28,
   "metadata": {},
   "outputs": [
    {
     "data": {
      "text/plain": [
       "3"
      ]
     },
     "execution_count": 28,
     "metadata": {},
     "output_type": "execute_result"
    }
   ],
   "source": [
    "(1).__add__(2)"
   ]
  },
  {
   "cell_type": "code",
   "execution_count": 33,
   "metadata": {},
   "outputs": [
    {
     "data": {
      "text/plain": [
       "False"
      ]
     },
     "execution_count": 33,
     "metadata": {},
     "output_type": "execute_result"
    }
   ],
   "source": [
    "(1).__gt__(2)"
   ]
  },
  {
   "cell_type": "markdown",
   "metadata": {},
   "source": [
    "#### Strings"
   ]
  },
  {
   "cell_type": "code",
   "execution_count": 18,
   "metadata": {
    "collapsed": true
   },
   "outputs": [],
   "source": [
    "foo = 'foo'\n",
    "bar = 'bar'"
   ]
  },
  {
   "cell_type": "code",
   "execution_count": 19,
   "metadata": {},
   "outputs": [
    {
     "name": "stdout",
     "output_type": "stream",
     "text": [
      "foobar\n"
     ]
    }
   ],
   "source": [
    "foobar = foo + bar\n",
    "print(foobar)"
   ]
  },
  {
   "cell_type": "code",
   "execution_count": 20,
   "metadata": {},
   "outputs": [
    {
     "data": {
      "text/plain": [
       "'raboof'"
      ]
     },
     "execution_count": 20,
     "metadata": {},
     "output_type": "execute_result"
    }
   ],
   "source": [
    "# String manipulation - reverse string\n",
    "foobar[::-1]"
   ]
  },
  {
   "cell_type": "code",
   "execution_count": 21,
   "metadata": {},
   "outputs": [
    {
     "data": {
      "text/plain": [
       "'oo'"
      ]
     },
     "execution_count": 21,
     "metadata": {},
     "output_type": "execute_result"
    }
   ],
   "source": [
    "# Substring\n",
    "foobar[1:3]"
   ]
  },
  {
   "cell_type": "code",
   "execution_count": 22,
   "metadata": {},
   "outputs": [
    {
     "data": {
      "text/plain": [
       "'FOOBAR'"
      ]
     },
     "execution_count": 22,
     "metadata": {},
     "output_type": "execute_result"
    }
   ],
   "source": [
    "# Of course you also have access to all the string methods\n",
    "foobar.upper()"
   ]
  },
  {
   "cell_type": "code",
   "execution_count": 35,
   "metadata": {},
   "outputs": [
    {
     "name": "stdout",
     "output_type": "stream",
     "text": [
      "True\n"
     ]
    }
   ],
   "source": [
    "# String formatting\n",
    "\n",
    "# This will produce the same result.\n",
    "result1 = foo + bar\n",
    "result2 = '%s%s' % (foo, bar)\n",
    "result3 = '{}{}'.format(foo, bar)\n",
    "\n",
    "print(result1 == result2 == result3)"
   ]
  },
  {
   "cell_type": "markdown",
   "metadata": {},
   "source": [
    "#### Lists\n"
   ]
  },
  {
   "cell_type": "code",
   "execution_count": 38,
   "metadata": {},
   "outputs": [
    {
     "name": "stdout",
     "output_type": "stream",
     "text": [
      "[1, 2, 3, 4]\n"
     ]
    }
   ],
   "source": [
    "# List definition\n",
    "this_is_my_list = [1, 2, 3, 4]\n",
    "print(this_is_my_list)"
   ]
  },
  {
   "cell_type": "code",
   "execution_count": 41,
   "metadata": {},
   "outputs": [
    {
     "name": "stdout",
     "output_type": "stream",
     "text": [
      "[1, 'two', [3], {4: 'four'}]\n"
     ]
    }
   ],
   "source": [
    "# You can pass values of any type to list because it just stores references\n",
    "my_colorful_list = [1, \"two\", [3], { 4: \"four\" }]\n",
    "print(my_colorful_list)"
   ]
  },
  {
   "cell_type": "code",
   "execution_count": 89,
   "metadata": {},
   "outputs": [
    {
     "data": {
      "text/plain": [
       "4"
      ]
     },
     "execution_count": 89,
     "metadata": {},
     "output_type": "execute_result"
    }
   ],
   "source": [
    "# Check length of the list\n",
    "len(my_colorful_list)"
   ]
  },
  {
   "cell_type": "code",
   "execution_count": 82,
   "metadata": {},
   "outputs": [
    {
     "name": "stdout",
     "output_type": "stream",
     "text": [
      "Three is IN!\n"
     ]
    }
   ],
   "source": [
    "# Check if value is in a list\n",
    "if 3 in this_is_my_list:\n",
    "    print('Three is IN!')"
   ]
  },
  {
   "cell_type": "code",
   "execution_count": 42,
   "metadata": {},
   "outputs": [
    {
     "name": "stdout",
     "output_type": "stream",
     "text": [
      "1\n",
      "two\n",
      "[3]\n",
      "{4: 'four'}\n"
     ]
    }
   ],
   "source": [
    "# Iterating over a list\n",
    "for item in my_colorful_list:\n",
    "    print(item)"
   ]
  },
  {
   "cell_type": "code",
   "execution_count": 44,
   "metadata": {},
   "outputs": [
    {
     "name": "stdout",
     "output_type": "stream",
     "text": [
      "[0, 1, 4, 9, 16, 25, 36, 49, 64, 81]\n"
     ]
    }
   ],
   "source": [
    "# List comprehension\n",
    "squares = [x**2 for x in range(10)]  #range 0-9\n",
    "print(squares)"
   ]
  },
  {
   "cell_type": "code",
   "execution_count": null,
   "metadata": {
    "collapsed": true
   },
   "outputs": [],
   "source": [
    "# Filtered lists\n",
    "filtered_squares = [square for square in squares if square % 3 == 0]\n",
    "filtered_squares"
   ]
  },
  {
   "cell_type": "code",
   "execution_count": 54,
   "metadata": {},
   "outputs": [
    {
     "data": {
      "text/plain": [
       "[0, 1, 4, 9, 16, 25, 36, 49, 64, 81]"
      ]
     },
     "execution_count": 54,
     "metadata": {},
     "output_type": "execute_result"
    }
   ],
   "source": [
    "# You can do the same list comprehension with map and lambda\n",
    "mapped_squares = map(lambda x: x**2, range(10)) # lambda - anonymous inline function\n",
    "list(mapped_squares)"
   ]
  },
  {
   "cell_type": "markdown",
   "metadata": {},
   "source": [
    "#### Dictionaries"
   ]
  },
  {
   "cell_type": "code",
   "execution_count": 66,
   "metadata": {},
   "outputs": [
    {
     "name": "stdout",
     "output_type": "stream",
     "text": [
      "{'1': 'one', '2': 'two', '3': 'three', 'test': 'oops'}\n"
     ]
    }
   ],
   "source": [
    "# simple dictionary\n",
    "s_dict = {\n",
    "    '1': 'one',\n",
    "    '2': 'two',\n",
    "    '3': 'three',\n",
    "    'test': 'oops'\n",
    "}\n",
    "\n",
    "print(s_dict)"
   ]
  },
  {
   "cell_type": "code",
   "execution_count": 64,
   "metadata": {},
   "outputs": [
    {
     "ename": "AttributeError",
     "evalue": "'dict' object has no attribute 'test'",
     "output_type": "error",
     "traceback": [
      "\u001b[0;31m---------------------------------------------------------------------------\u001b[0m",
      "\u001b[0;31mAttributeError\u001b[0m                            Traceback (most recent call last)",
      "\u001b[0;32m<ipython-input-64-2121a16f3b98>\u001b[0m in \u001b[0;36m<module>\u001b[0;34m()\u001b[0m\n\u001b[1;32m      1\u001b[0m \u001b[0;31m# Accessing a dictionary key\u001b[0m\u001b[0;34m\u001b[0m\u001b[0;34m\u001b[0m\u001b[0m\n\u001b[0;32m----> 2\u001b[0;31m \u001b[0ms_dict\u001b[0m\u001b[0;34m.\u001b[0m\u001b[0mtest\u001b[0m \u001b[0;31m# Oops\u001b[0m\u001b[0;34m\u001b[0m\u001b[0m\n\u001b[0m",
      "\u001b[0;31mAttributeError\u001b[0m: 'dict' object has no attribute 'test'"
     ]
    }
   ],
   "source": [
    "# Accessing a dictionary key\n",
    "s_dict.test # Oops"
   ]
  },
  {
   "cell_type": "code",
   "execution_count": 65,
   "metadata": {},
   "outputs": [
    {
     "data": {
      "text/plain": [
       "'oops'"
      ]
     },
     "execution_count": 65,
     "metadata": {},
     "output_type": "execute_result"
    }
   ],
   "source": [
    "# Perhaps, this way?\n",
    "s_dict['test']"
   ]
  },
  {
   "cell_type": "code",
   "execution_count": 77,
   "metadata": {},
   "outputs": [
    {
     "data": {
      "text/plain": [
       "'oops'"
      ]
     },
     "execution_count": 77,
     "metadata": {},
     "output_type": "execute_result"
    }
   ],
   "source": [
    "# Or like this\n",
    "s_dict.get('test')"
   ]
  },
  {
   "cell_type": "code",
   "execution_count": 79,
   "metadata": {},
   "outputs": [
    {
     "data": {
      "text/plain": [
       "'Of course'"
      ]
     },
     "execution_count": 79,
     "metadata": {},
     "output_type": "execute_result"
    }
   ],
   "source": [
    "# We can also pass default value if key doesn't exist\n",
    "s_dict.get('are you here?', 'Of course')"
   ]
  },
  {
   "cell_type": "code",
   "execution_count": 67,
   "metadata": {},
   "outputs": [
    {
     "data": {
      "text/plain": [
       "[['one', 'two', 'three', 'oops']]"
      ]
     },
     "execution_count": 67,
     "metadata": {},
     "output_type": "execute_result"
    }
   ],
   "source": [
    "# Filter out dictionary keys\n",
    "dict_keys = [list(map(lambda key: s_dict[key], s_dict))]\n",
    "dict_keys"
   ]
  },
  {
   "cell_type": "markdown",
   "metadata": {},
   "source": [
    "#### Control flows"
   ]
  },
  {
   "cell_type": "code",
   "execution_count": 70,
   "metadata": {},
   "outputs": [
    {
     "name": "stdout",
     "output_type": "stream",
     "text": [
      "<=3\n"
     ]
    }
   ],
   "source": [
    "# If-else if-else\n",
    "x = 3\n",
    "if x > 5:\n",
    "    print('>5')\n",
    "elif x > 3:\n",
    "    print('>3')\n",
    "else:\n",
    "    print('<=3')"
   ]
  },
  {
   "cell_type": "code",
   "execution_count": 72,
   "metadata": {},
   "outputs": [
    {
     "name": "stdout",
     "output_type": "stream",
     "text": [
      "0\n",
      "1\n",
      "2\n",
      "3\n",
      "4\n",
      "5\n",
      "6\n",
      "7\n",
      "8\n",
      "9\n"
     ]
    }
   ],
   "source": [
    "# Simple for loop\n",
    "for x in range(0, 10):\n",
    "    print(x)"
   ]
  },
  {
   "cell_type": "code",
   "execution_count": 71,
   "metadata": {},
   "outputs": [
    {
     "name": "stdout",
     "output_type": "stream",
     "text": [
      "f\n",
      "o\n",
      "o\n",
      "b\n",
      "a\n",
      "r\n"
     ]
    }
   ],
   "source": [
    "# Iterating over characters in string\n",
    "for x in foobar:\n",
    "    print(x)    "
   ]
  },
  {
   "cell_type": "markdown",
   "metadata": {},
   "source": [
    "#### Functions"
   ]
  },
  {
   "cell_type": "code",
   "execution_count": 91,
   "metadata": {},
   "outputs": [
    {
     "name": "stdout",
     "output_type": "stream",
     "text": [
      "1\n"
     ]
    }
   ],
   "source": [
    "# Function definition\n",
    "def my_first_function(x):\n",
    "    pass\n",
    "\n",
    "# Calling a function\n",
    "my_first_function(1) # No return due to pass\n",
    "\n",
    "# Default parameter values\n",
    "def my_second_function(x = 0):\n",
    "    return print(x)\n",
    "    \n",
    "my_second_function(0)"
   ]
  },
  {
   "cell_type": "code",
   "execution_count": 76,
   "metadata": {},
   "outputs": [
    {
     "name": "stdout",
     "output_type": "stream",
     "text": [
      "three\n"
     ]
    }
   ],
   "source": [
    "my_second_function('three')"
   ]
  },
  {
   "cell_type": "code",
   "execution_count": 97,
   "metadata": {},
   "outputs": [
    {
     "name": "stdout",
     "output_type": "stream",
     "text": [
      "[0]\n",
      "[0, 1]\n",
      "[0, 1, 2]\n",
      "[0, 1, 2, 3]\n"
     ]
    }
   ],
   "source": [
    "# Mutable vs. Immutable properties\n",
    "def foonction(dirty_list = []):\n",
    "    dirty_list.append(len(dirty_list))\n",
    "    return dirty_list\n",
    "    \n",
    "print(foonction())\n",
    "print(foonction())\n",
    "print(foonction())\n",
    "print(foonction())"
   ]
  },
  {
   "cell_type": "code",
   "execution_count": 98,
   "metadata": {},
   "outputs": [
    {
     "name": "stdout",
     "output_type": "stream",
     "text": [
      "Mutable: ['Peteris', 'Rihards', 'Nesters']\n",
      "Immutable:\n",
      " name_string - Peteris,Rihards,Nesters\n",
      " updated_name_string - Peteris&Rihards&Nesters\n"
     ]
    }
   ],
   "source": [
    "name_list = ['Peteris', 'Rihards']\n",
    "updated_name_list = name_list\n",
    "updated_name_list.append('Nesters')\n",
    "\n",
    "print(\"Mutable: {}\".format(name_list))\n",
    "\n",
    "name_string = ','.join(name_list)\n",
    "\n",
    "updated_name_string = name_string\n",
    "\n",
    "updated_name_string = '&'.join(name_list)\n",
    "\n",
    "print(\"Immutable:\\n name_string - {}\\n updated_name_string - {}\".format(name_string, updated_name_string))"
   ]
  },
  {
   "cell_type": "markdown",
   "metadata": {},
   "source": [
    "#### Object Oriented Programming is cool too"
   ]
  },
  {
   "cell_type": "code",
   "execution_count": 115,
   "metadata": {},
   "outputs": [
    {
     "data": {
      "text/plain": [
       "'Human Subject #001'"
      ]
     },
     "execution_count": 115,
     "metadata": {},
     "output_type": "execute_result"
    }
   ],
   "source": [
    "class Person(object):\n",
    "    \n",
    "    __name = None\n",
    "    \n",
    "    # constructor\n",
    "    def __init__(self, name='Human Subject #001'):\n",
    "        self.__name = name\n",
    "    \n",
    "    # property definition\n",
    "    @property\n",
    "    def name(self):\n",
    "        return self.__name\n",
    "        \n",
    "someone = Person()\n",
    "\n",
    "someone.name"
   ]
  },
  {
   "cell_type": "code",
   "execution_count": 95,
   "metadata": {},
   "outputs": [
    {
     "name": "stdout",
     "output_type": "stream",
     "text": [
      "None\n",
      "Top 1%\n",
      "Pēteris is cool!\n"
     ]
    }
   ],
   "source": [
    "class Scandiwebian(Person):\n",
    "    \n",
    "    __skill = None\n",
    "    \n",
    "    def __init__(self, name, skill=None):\n",
    "        super(Scandiwebian,self).__init__(name)\n",
    "        self.__skill = skill\n",
    "        \n",
    "    @property\n",
    "    def skill(self):\n",
    "        return self.__skill\n",
    "    \n",
    "    @skill.setter\n",
    "    def skill(self, level):\n",
    "        self.__skill = level\n",
    "        \n",
    "    # method\n",
    "    def say(self):\n",
    "        print(\"{} is cool!\".format(self.name))\n",
    "        \n",
    "someone_awesome = Scandiwebian('Pēteris')\n",
    "\n",
    "print(someone_awesome.skill)\n",
    "\n",
    "someone_awesome.skill = \"Top 1%\"\n",
    "print(someone_awesome.skill)\n",
    "\n",
    "someone_awesome.say()"
   ]
  },
  {
   "cell_type": "markdown",
   "metadata": {},
   "source": [
    "#### Exception handling"
   ]
  },
  {
   "cell_type": "code",
   "execution_count": 88,
   "metadata": {},
   "outputs": [
    {
     "name": "stdout",
     "output_type": "stream",
     "text": [
      "Key missing: 'fvghbjkdddl;'\n"
     ]
    }
   ],
   "source": [
    "try:\n",
    "    s_dict['fvghbjkdddl;']\n",
    "except KeyError as e:\n",
    "    print(\"Key missing: {}\".format(e))"
   ]
  },
  {
   "cell_type": "markdown",
   "metadata": {},
   "source": [
    "#### Simple real world use for Python"
   ]
  },
  {
   "cell_type": "code",
   "execution_count": 114,
   "metadata": {},
   "outputs": [
    {
     "data": {
      "text/plain": [
       "[<a class=\"gb1\" href=\"http://www.google.lv/imghp?hl=lv&amp;tab=wi\">Attēli</a>,\n",
       " <a class=\"gb1\" href=\"http://maps.google.com/maps?hl=lv&amp;tab=wl\">Maps</a>,\n",
       " <a class=\"gb1\" href=\"http://www.youtube.com/?gl=LV&amp;tab=w1\">YouTube</a>,\n",
       " <a class=\"gb1\" href=\"http://news.google.lv/nwshp?hl=lv&amp;tab=wn\">Ziņas</a>,\n",
       " <a class=\"gb1\" href=\"https://mail.google.com/mail/?tab=wm\">Gmail</a>,\n",
       " <a class=\"gb1\" href=\"https://drive.google.com/?tab=wo\">Disks</a>,\n",
       " <a class=\"gb1\" href=\"https://www.google.com/calendar?tab=wc\">Kalendārs</a>,\n",
       " <a class=\"gb1\" href=\"https://www.google.lv/intl/lv/options/\" style=\"text-decoration:none\"><u>Vēl</u> »</a>,\n",
       " <a class=\"gb4\" href=\"http://www.google.lv/history/optout?hl=lv\">Tīmekļa vēsture</a>,\n",
       " <a class=\"gb4\" href=\"/preferences?hl=lv\">Iestatījumi</a>,\n",
       " <a class=\"gb4\" href=\"https://accounts.google.com/ServiceLogin?hl=lv&amp;passive=true&amp;continue=http://www.google.lv/%3Fgws_rd%3Dcr%26dcr%3D0%26ei%3DF_mPWpStEoOKsgHW0JbwBQ\" id=\"gb_70\" target=\"_top\">Ieiet</a>,\n",
       " <a href=\"/search?dcr=0&amp;site=&amp;ie=UTF-8&amp;q=2018.%C2%A0gada+Ziemas+Olimpisk%C4%81s+sp%C4%93les&amp;oi=ddle&amp;ct=doodle-snow-games-day-15-5907794870927360-lawcta&amp;hl=lv&amp;kgmid=/m/03tng8&amp;sa=X&amp;ved=0ahUKEwiws9PU9bvZAhVBqSwKHU42DjEQPQgD\"><img alt=\" Doodle sniega spēļu 15. diena!\" border=\"0\" height=\"200\" id=\"hplogo\" onload=\"window.lol&amp;&amp;lol()\" src=\"/logos/doodles/2018/doodle-snow-games-day-15-5907794870927360.3-l.png\" title=\" Doodle sniega spēļu 15. diena!\" width=\"356\"/><br/></a>,\n",
       " <a href=\"/advanced_search?hl=lv&amp;authuser=0\">Izvērstā meklēšana</a>,\n",
       " <a href=\"/language_tools?hl=lv&amp;authuser=0\">Valodu rīki</a>,\n",
       " <a href=\"http://www.google.lv/setprefs?sig=0_0OgE5w8s70yUcB16wF-_UChBHR8%3D&amp;hl=lt&amp;source=homepage&amp;sa=X&amp;ved=0ahUKEwiws9PU9bvZAhVBqSwKHU42DjEQ2ZgBCAU\">lietuvių</a>,\n",
       " <a href=\"http://www.google.lv/setprefs?sig=0_0OgE5w8s70yUcB16wF-_UChBHR8%3D&amp;hl=ru&amp;source=homepage&amp;sa=X&amp;ved=0ahUKEwiws9PU9bvZAhVBqSwKHU42DjEQ2ZgBCAY\">русский</a>,\n",
       " <a href=\"http://www.google.lv/intl/lv/ads/\">Reklāmas</a>,\n",
       " <a href=\"http://www.google.lv/intl/lv/services/\">Uzņēmējdarbības risinājumi</a>,\n",
       " <a href=\"/intl/lv/about.html\">Viss par Google</a>,\n",
       " <a href=\"http://www.google.lv/setprefdomain?prefdom=US&amp;sig=__xaOdvEqwVxbLehjEmiiRAm9ONhY%3D\" id=\"fehl\">Google.com</a>,\n",
       " <a href=\"/intl/lv/policies/privacy/\">Konfidencialitāte</a>,\n",
       " <a href=\"/intl/lv/policies/terms/\">Noteikumi</a>]"
      ]
     },
     "execution_count": 114,
     "metadata": {},
     "output_type": "execute_result"
    }
   ],
   "source": [
    "import requests\n",
    "\n",
    "resp = requests.get('http://google.com')\n",
    "\n",
    "resp.text\n",
    "\n",
    "from bs4 import BeautifulSoup\n",
    "soup = BeautifulSoup(resp.text, 'html.parser')\n",
    "\n",
    "soup.find_all('a')"
   ]
  },
  {
   "cell_type": "markdown",
   "metadata": {},
   "source": [
    "## Workshop setup\n",
    "\n",
    "### Check your Python versions (python -V / python3 -V)\n",
    "\n",
    "### Create a new project in PyCharm\n",
    "\n",
    "### Check terminal in PyCharm (toggle at bottom left corner), IF virtual environment has not been created for you:\n",
    "\n",
    "### Set interpreter for the project correctly in PyCharm (File -> Settings -> Project ...) -> Interpreters -> select workshop virtualenv\n",
    "\n"
   ]
  },
  {
   "cell_type": "markdown",
   "metadata": {},
   "source": [
    "## Workshop task\n",
    "\n",
    "### Simple modular OOP interaction\n",
    "\n",
    "* Create a base Animal class with methods like sound,\n",
    "\n",
    "* Create different animals with their own methods that extend Animal class\n",
    "\n",
    "* Create a separate folder called animals with an empty ```__init__.py``` file\n",
    "\n",
    "* Move over each animal class in a separate file, including base call\n",
    "\n",
    "* Import base class in each animal class file\n",
    "\n",
    "* In your code in root directory, import these modules and interact with your objects\n"
   ]
  },
  {
   "cell_type": "markdown",
   "metadata": {},
   "source": [
    "### You can play around with some basic web scraping\n",
    "\n",
    "* pip install requests bs4 in PyCharm terminal\n",
    "* import requests\n",
    "* from bs4 import BeautifulSoup"
   ]
  },
  {
   "cell_type": "code",
   "execution_count": null,
   "metadata": {
    "collapsed": true
   },
   "outputs": [],
   "source": []
  },
  {
   "cell_type": "code",
   "execution_count": null,
   "metadata": {
    "collapsed": true
   },
   "outputs": [],
   "source": []
  }
 ],
 "metadata": {
  "kernelspec": {
   "display_name": "Python 3",
   "language": "python",
   "name": "python3"
  },
  "language_info": {
   "codemirror_mode": {
    "name": "ipython",
    "version": 3
   },
   "file_extension": ".py",
   "mimetype": "text/x-python",
   "name": "python",
   "nbconvert_exporter": "python",
   "pygments_lexer": "ipython3",
   "version": "3.6.4"
  }
 },
 "nbformat": 4,
 "nbformat_minor": 2
}
