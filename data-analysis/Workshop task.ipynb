{
 "cells": [
  {
   "cell_type": "markdown",
   "metadata": {
    "collapsed": true
   },
   "source": [
    "# Friday 9th - Introduction to Data Analysis"
   ]
  },
  {
   "cell_type": "markdown",
   "metadata": {},
   "source": [
    "## Task 1 - Basic Data Exploration\n",
    "\n",
    "1. Load US 2014 city population data set (datasets/2014_us_cities.csv) in Pandas\n",
    "2. Explore data with basic functions (mean, median, head, tail, min, max, sort_values, describe, info)\n",
    "3. Count the amount of cities that have population of more than 250 000 people\n",
    "4. Get the names of the cities starting with a letter \"A\" that are located at least 30 degrees north"
   ]
  },
  {
   "cell_type": "markdown",
   "metadata": {},
   "source": [
    "## Task 2 - Basic Data Analysis\n",
    "1. Load Titanic passenger data set (datasets/titanic.csv) in Pandas\n",
    "2. Explore the data\n",
    "3. Come up with a hypothesis based on your observation of the data\n",
    "4. Clean the data (missing values, duplicates etc.)\n",
    "5. What was the average age of passengers on Titanic?\n",
    "6. How many passengers in 3rd class survived?\n",
    "7. What is the survival rate based on the class of the passenger cabin?\n",
    "8. Confirm or reject your hypothesis made earlier."
   ]
  }
 ],
 "metadata": {
  "kernelspec": {
   "display_name": "Python 2",
   "language": "python",
   "name": "python2"
  },
  "language_info": {
   "codemirror_mode": {
    "name": "ipython",
    "version": 2
   },
   "file_extension": ".py",
   "mimetype": "text/x-python",
   "name": "python",
   "nbconvert_exporter": "python",
   "pygments_lexer": "ipython2",
   "version": "2.7.6"
  }
 },
 "nbformat": 4,
 "nbformat_minor": 0
}
